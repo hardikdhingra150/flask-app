{
 "metadata": {
  "language_info": {
   "codemirror_mode": {
    "name": "ipython",
    "version": 3
   },
   "file_extension": ".py",
   "mimetype": "text/x-python",
   "name": "python",
   "nbconvert_exporter": "python",
   "pygments_lexer": "ipython3",
   "version": 3
  },
  "orig_nbformat": 2,
  "kernelspec": {
   "name": "python_defaultSpec_1595019644791",
   "display_name": "Python 3.8.2 64-bit"
  }
 },
 "nbformat": 4,
 "nbformat_minor": 2,
 "cells": [
  {
   "cell_type": "code",
   "execution_count": 4,
   "metadata": {
    "tags": []
   },
   "outputs": [
    {
     "output_type": "stream",
     "name": "stdout",
     "text": "1kya\n"
    }
   ],
   "source": [
    "print('1' + \"kya\")"
   ]
  },
  {
   "cell_type": "code",
   "execution_count": 20,
   "metadata": {
    "tags": []
   },
   "outputs": [
    {
     "output_type": "stream",
     "name": "stdout",
     "text": "1 ks\n1 ks\nkya baat hai? 24\n1\n2\n3\n4\n5\n"
    },
    {
     "output_type": "execute_result",
     "data": {
      "text/plain": "[None, None, None, None, None]"
     },
     "metadata": {},
     "execution_count": 20
    }
   ],
   "source": [
    "print(1, \"ks\")\n",
    "var = 24\n",
    "print(str(1) + ' ' + \"ks\")\n",
    "print(f'kya baat hai?', var)\n",
    "list2 = [1, 2, 3,4 , 5]\n",
    "[print(i) for i in list1]"
   ]
  },
  {
   "cell_type": "code",
   "execution_count": 54,
   "metadata": {
    "tags": []
   },
   "outputs": [
    {
     "output_type": "stream",
     "name": "stdout",
     "text": "1\n2\n3\n4\n5\n[1, 2, 3, 4, 5]\n"
    }
   ],
   "source": [
    "\n",
    "[print(i) for i in list1]\n",
    "# for i in list1:\n",
    "#     print(i)\n",
    "print(list1)"
   ]
  },
  {
   "cell_type": "code",
   "execution_count": null,
   "metadata": {},
   "outputs": [],
   "source": []
  }
 ]
}